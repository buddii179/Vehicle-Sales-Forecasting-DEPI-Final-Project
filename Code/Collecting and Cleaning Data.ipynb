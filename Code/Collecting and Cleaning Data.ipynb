{
 "cells": [
  {
   "cell_type": "code",
   "execution_count": null,
   "id": "ae9ab7e2",
   "metadata": {},
   "outputs": [],
   "source": [
    "#Importing Libraries\n",
    "import numpy as np\n",
    "import pandas as pd\n",
    "import matplotlib.pyplot as plt\n",
    "import seaborn as sns"
   ]
  },
  {
   "cell_type": "code",
   "execution_count": null,
   "id": "709078cb",
   "metadata": {},
   "outputs": [],
   "source": [
    "#Loading Dataset\n",
    "df=pd.read_csv(\"D:\\Car Sales Analysis & Prediction\\DataSets\\Car_Sales_Dataset.csv\")\n",
    "df"
   ]
  },
  {
   "cell_type": "code",
   "execution_count": null,
   "id": "801c6ed5",
   "metadata": {},
   "outputs": [],
   "source": [
    "#Dataset Information\n",
    "df.info()  #It will give the information realted to whole dataset like datatypes in there whole dataset, memory usage and more... \n",
    "print()"
   ]
  },
  {
   "cell_type": "code",
   "execution_count": null,
   "id": "a788a7b7",
   "metadata": {},
   "outputs": [],
   "source": [
    "#Dataset Shape\n",
    "print(df.shape) #Display the Number of Rows and Columns((no. of rows,no. of columns) in this format)"
   ]
  },
  {
   "cell_type": "code",
   "execution_count": null,
   "id": "684ac751",
   "metadata": {},
   "outputs": [],
   "source": [
    "#Gathering starting rows of datas from dataset\n",
    "df.head(10) #Gives you top 10 rows of datas from dataset"
   ]
  },
  {
   "cell_type": "code",
   "execution_count": null,
   "id": "c9b3fdeb",
   "metadata": {},
   "outputs": [],
   "source": [
    "#Gathering Last rows of datas from dataset\n",
    "df.tail(10) #Gives you last 10 rows of datas from dataset"
   ]
  },
  {
   "cell_type": "code",
   "execution_count": null,
   "id": "9214073f",
   "metadata": {},
   "outputs": [],
   "source": [
    "#Count the values in dataset\n",
    "print(df.count()) #Display the number of elements in each column \n",
    "print()"
   ]
  },
  {
   "cell_type": "code",
   "execution_count": null,
   "id": "1f2cdd86",
   "metadata": {},
   "outputs": [],
   "source": [
    "#Mean of Dataset\n",
    "selected_columns = df[['Unique_ID','Year', 'Price','ConsumerRating','SellerRating','MinMPG','MaxMPG','Mileage','Sales']]\n",
    "selected_column_means = selected_columns.mean()\n",
    "print(selected_column_means)"
   ]
  },
  {
   "cell_type": "code",
   "execution_count": null,
   "id": "7a643915",
   "metadata": {},
   "outputs": [],
   "source": [
    "#Median of Dataset\n",
    "selected_columns = df[['Unique_ID','Year', 'Price','ConsumerRating','SellerRating','MinMPG','MaxMPG','Mileage','Sales']]\n",
    "selected_column_median = selected_columns.median()\n",
    "print(selected_column_median)"
   ]
  },
  {
   "cell_type": "code",
   "execution_count": null,
   "id": "3875964f",
   "metadata": {},
   "outputs": [],
   "source": [
    "#Mode of Dataset\n",
    "selected_columns = df[['Unique_ID','Year', 'Price','ConsumerRating','SellerRating','MinMPG','MaxMPG','Mileage','Sales']]\n",
    "selected_column_mode = selected_columns.mode()\n",
    "print(selected_column_mode)"
   ]
  },
  {
   "cell_type": "code",
   "execution_count": null,
   "id": "8ca67d93",
   "metadata": {},
   "outputs": [],
   "source": [
    "#Minimum value from each columns\n",
    "print(\"Minimum Year: \",df.Year.min())\n",
    "print()\n",
    "print(\"Minimum Price: \",df.Price.min())\n",
    "print()\n",
    "print(\"Minimum ConsumerRating: \",df.ConsumerRating.min())\n",
    "print()\n",
    "print(\"Minimum Unique_ID: \",df.Unique_ID.min())\n",
    "print()\n",
    "print(\"Minimum SellerRating: \",df.SellerRating.min())\n",
    "print()\n",
    "print(\"Minimum MinMPG: \",df.MinMPG.min())\n",
    "print()\n",
    "print(\"Minimum MaxMPG: \",df.MaxMPG.min())\n",
    "print()\n",
    "print(\"Minimum Mileage: \",df.Mileage.min())\n",
    "print()\n",
    "print(\"Minimum Sales: \",df.Sales.min())\n",
    "print()"
   ]
  },
  {
   "cell_type": "code",
   "execution_count": null,
   "id": "ecc0d9c7",
   "metadata": {},
   "outputs": [],
   "source": [
    "#Maximum value from each columns\n",
    "print(\"Maximum Year: \",df.Year.max())\n",
    "print()\n",
    "print(\"Maximum Price: \",df.Price.max())\n",
    "print()\n",
    "print(\"Maximum ConsumerRating: \",df.ConsumerRating.max())\n",
    "print()\n",
    "print(\"Maximum Unique_ID: \",df.Unique_ID.max())\n",
    "print()\n",
    "print(\"Maximum SellerRating: \",df.SellerRating.max())\n",
    "print()\n",
    "print(\"Maximum MinMPG: \",df.MinMPG.max())\n",
    "print()\n",
    "print(\"Maximum MaxMPG: \",df.MaxMPG.max())\n",
    "print()\n",
    "print(\"Maximum Mileage: \",df.Mileage.max())\n",
    "print()\n",
    "print(\"Maximum Sales: \",df.Sales.max())\n",
    "print()"
   ]
  },
  {
   "cell_type": "code",
   "execution_count": null,
   "id": "9380515f",
   "metadata": {},
   "outputs": [],
   "source": [
    "#Describe the information of Dataset\n",
    "print(df.describe()) # It will display the whole description of data of file\n",
    "print()"
   ]
  },
  {
   "cell_type": "code",
   "execution_count": null,
   "id": "11fd27df",
   "metadata": {},
   "outputs": [],
   "source": [
    "#Duplicate values in the dataset\n",
    "df.duplicated().sum()"
   ]
  },
  {
   "cell_type": "code",
   "execution_count": null,
   "id": "0226a8c7",
   "metadata": {},
   "outputs": [],
   "source": [
    "#Check Null Values\n",
    "df.isnull().sum()"
   ]
  },
  {
   "cell_type": "code",
   "execution_count": null,
   "id": "c7c0fc1d",
   "metadata": {},
   "outputs": [],
   "source": []
  }
 ],
 "metadata": {
  "kernelspec": {
   "display_name": ".conda",
   "language": "python",
   "name": "python3"
  },
  "language_info": {
   "name": "python",
   "version": "3.10.16"
  }
 },
 "nbformat": 4,
 "nbformat_minor": 5
}
