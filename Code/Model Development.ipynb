{
 "cells": [
  {
   "cell_type": "code",
   "execution_count": null,
   "id": "e74a49d7",
   "metadata": {},
   "outputs": [],
   "source": [
    "import pandas as pd\n",
    "from sklearn.model_selection import train_test_split\n",
    "\n",
    "# Load the dataset\n",
    "file_path = \"VAM Dataset.csv\"\n",
    "df = pd.read_csv(file_path, encoding='ascii')\n",
    "\n",
    "# Display the head of the dataframe to understand its structure\n",
    "print(df.head())\n",
    "\n",
    "# Define features and target variable\n",
    "# Assuming 'Price' is the target variable and the rest are features\n",
    "X = df.drop('Sales', axis=1)\n",
    "y = df['Sales']\n",
    "\n",
    "# Split the data into training and testing sets\n",
    "X_train, X_test, y_train, y_test = train_test_split(X, y, test_size=0.2, random_state=42)\n",
    "\n",
    "# Display the shapes of the resulting datasets\n",
    "print('X_train shape:', X_train.shape)\n",
    "print('X_test shape:', X_test.shape)\n",
    "print('y_train shape:', y_train.shape)\n",
    "print('y_test shape:', y_test.shape)"
   ]
  },
  {
   "cell_type": "code",
   "execution_count": null,
   "id": "3566978d",
   "metadata": {},
   "outputs": [],
   "source": [
    "import pandas as pd\n",
    "import seaborn as sns\n",
    "import matplotlib.pyplot as plt\n",
    "\n",
    "# Load the dataset\n",
    "file_path = \"VAM Dataset.csv\"\n",
    "df = pd.read_csv(file_path, encoding='ascii')\n",
    "\n",
    "# Filter the data for years 2001 to 2022\n",
    "df_filtered = df[(df['Year'] >= 2001) & (df['Year'] <= 2022)]\n",
    "\n",
    "# Create a pivot table for the heatmap\n",
    "df_pivot = df_filtered.pivot_table(index='Year', columns='Make', values='Price', aggfunc='count', fill_value=0)\n",
    "\n",
    "# Plot the heatmap\n",
    "plt.figure(figsize=(12, 8))\n",
    "sns.heatmap(df_pivot, cmap='YlGnBu', annot=True, fmt='d')\n",
    "plt.title('Car Sales from 2001 to 2022 by Company')\n",
    "plt.xlabel('Car Company')\n",
    "plt.ylabel('Year')\n",
    "plt.xticks(rotation=45)\n",
    "plt.tight_layout()\n",
    "plt.show()"
   ]
  },
  {
   "cell_type": "code",
   "execution_count": null,
   "id": "f61caadc",
   "metadata": {},
   "outputs": [],
   "source": [
    "import pandas as pd\n",
    "import matplotlib.pyplot as plt\n",
    "import seaborn as sns\n",
    "df = pd.read_csv(\"VAM Dataset.csv\")\n",
    "print()\n",
    "#independent and dependent features\n",
    "#data dividing \n",
    "X= df[['Sales']] #independent\n",
    "Y= df[['Year']] #dependent\n",
    "print(X)\n",
    "print()\n",
    "print(Y)"
   ]
  },
  {
   "cell_type": "code",
   "execution_count": null,
   "id": "c8ac8c15",
   "metadata": {},
   "outputs": [],
   "source": [
    "#regression plot\n",
    "sns.regplot(x='Sales',y='Year',data=df)\n",
    "plt.show()"
   ]
  },
  {
   "cell_type": "code",
   "execution_count": null,
   "id": "515bcb2b",
   "metadata": {},
   "outputs": [],
   "source": [
    "from sklearn.model_selection import train_test_split\n",
    "X_train, X_test, Y_train, Y_test= train_test_split(X,Y, test_size=0.25, random_state=42)\n",
    "print(X_train)\n",
    "print()\n",
    "print(Y_train)"
   ]
  },
  {
   "cell_type": "code",
   "execution_count": null,
   "id": "7670c428",
   "metadata": {},
   "outputs": [],
   "source": [
    "import pandas as pd\n",
    "\n",
    "# Load dataset\n",
    "df = pd.read_csv(\"VAM Dataset.csv\")\n",
    "\n",
    "# Display first few rows\n",
    "print(df.head())\n"
   ]
  },
  {
   "cell_type": "code",
   "execution_count": null,
   "id": "9d6b73d7",
   "metadata": {},
   "outputs": [],
   "source": [
    "# Check for missing values\n",
    "print(df.isnull().sum())\n",
    "\n",
    "# Optionally, drop or fill missing values\n",
    "df = df.dropna()  # or df.fillna(method='ffill', inplace=True)\n",
    "\n",
    "# Feature selection (Assume 'target' is your dependent variable)\n",
    "X = df.drop('Sales', axis=1)\n",
    "y = df['Sales']\n"
   ]
  },
  {
   "cell_type": "code",
   "execution_count": null,
   "id": "9b3325c8",
   "metadata": {},
   "outputs": [],
   "source": [
    "df.drop('Make', axis=1, inplace=True)"
   ]
  },
  {
   "cell_type": "code",
   "execution_count": null,
   "id": "82a75d01",
   "metadata": {},
   "outputs": [],
   "source": [
    "df.drop('Model', axis=1, inplace=True)\n",
    "df"
   ]
  },
  {
   "cell_type": "code",
   "execution_count": null,
   "id": "045ed8ba",
   "metadata": {},
   "outputs": [],
   "source": [
    "df"
   ]
  },
  {
   "cell_type": "code",
   "execution_count": null,
   "id": "997454d2",
   "metadata": {},
   "outputs": [],
   "source": [
    "from sklearn.model_selection import train_test_split\n",
    "# Split the data\n",
    "X_train, X_test, y_train, y_test = train_test_split(X, y, test_size=0.2, random_state=42)\n"
   ]
  },
  {
   "cell_type": "code",
   "execution_count": null,
   "id": "f6418610",
   "metadata": {},
   "outputs": [],
   "source": [
    "import pandas as pd\n",
    "import numpy as np\n",
    "from sklearn.model_selection import train_test_split\n",
    "from sklearn.linear_model import LinearRegression\n",
    "from sklearn.preprocessing import StandardScaler\n",
    "from sklearn.metrics import mean_squared_error, r2_score\n",
    "import matplotlib.pyplot as plt\n",
    "import seaborn as sns\n",
    "\n",
    "# Load the dataset\n",
    "\n",
    "# Display the first few rows and basic information about the dataset\n",
    "print(df.head())\n",
    "print(\"\\\n",
    "Dataset Info:\")\n",
    "print(df.info())\n",
    "\n",
    "# Display summary statistics\n",
    "print(\"\\\n",
    "Summary Statistics:\")\n",
    "print(df.describe())\n",
    "\n",
    "# Check for missing values\n",
    "print(\"\\\n",
    "Missing Values:\")\n",
    "print(df.isnull().sum())\n",
    "\n",
    "# Display correlation matrix\n",
    "correlation_matrix = df.corr()\n",
    "plt.figure(figsize=(12, 10))\n",
    "sns.heatmap(correlation_matrix, annot=True, cmap='coolwarm', linewidths=0.5)\n",
    "plt.title('Correlation Matrix')\n",
    "plt.show()\n",
    "\n",
    "print(\"Data exploration completed.\")"
   ]
  },
  {
   "cell_type": "code",
   "execution_count": null,
   "id": "e5c6b1ca",
   "metadata": {},
   "outputs": [],
   "source": [
    "# Check for missing values\n",
    "print(df.isnull().sum())\n",
    "\n",
    "# Optionally, drop or fill missing values\n",
    "df = df.dropna()  # or df.fillna(method='ffill', inplace=True)\n",
    "\n",
    "# Feature selection (Assume 'target' is your dependent variable)\n",
    "X = df.drop('Sales', axis=1)\n",
    "y = df['Sales']\n"
   ]
  },
  {
   "cell_type": "code",
   "execution_count": null,
   "id": "991596e0",
   "metadata": {},
   "outputs": [],
   "source": [
    "from sklearn.model_selection import train_test_split\n",
    "\n",
    "# Split the data\n",
    "X_train, X_test, y_train, y_test = train_test_split(X, y, test_size=0.2, random_state=42)\n"
   ]
  },
  {
   "cell_type": "code",
   "execution_count": null,
   "id": "cf2e6dcb",
   "metadata": {},
   "outputs": [],
   "source": [
    "from sklearn.linear_model import LinearRegression\n",
    "\n",
    "# Initialize the model\n",
    "model = LinearRegression()\n",
    "\n",
    "# Train the model\n",
    "model.fit(X_train, y_train)\n"
   ]
  },
  {
   "cell_type": "code",
   "execution_count": null,
   "id": "4692b627",
   "metadata": {},
   "outputs": [],
   "source": [
    "from sklearn.metrics import mean_squared_error, r2_score\n",
    "\n",
    "# Predict on the test set\n",
    "y_pred = model.predict(X_test)\n",
    "\n",
    "# Calculate Mean Squared Error and R^2\n",
    "mse = mean_squared_error(y_test, y_pred)\n",
    "r2 = r2_score(y_test, y_pred)\n",
    "\n",
    "print(f'Mean Squared Error: {mse}')\n",
    "print(f'R^2 Score: {r2}')\n"
   ]
  },
  {
   "cell_type": "code",
   "execution_count": null,
   "id": "f3a71af9",
   "metadata": {},
   "outputs": [],
   "source": [
    "import matplotlib.pyplot as plt\n",
    "\n",
    "# Plot true vs predicted values\n",
    "plt.scatter(y_test, y_pred)\n",
    "plt.xlabel(\"Actual Values\")\n",
    "plt.ylabel(\"Predicted Values\")\n",
    "plt.title(\"Actual vs Predicted Values\")\n",
    "plt.show()\n"
   ]
  },
  {
   "cell_type": "code",
   "execution_count": null,
   "id": "ee1de30e",
   "metadata": {},
   "outputs": [],
   "source": [
    "from sklearn.tree import DecisionTreeRegressor\n",
    "\n",
    "# Initialize the model\n",
    "model = DecisionTreeRegressor()\n",
    "\n",
    "# Train and evaluate as above"
   ]
  },
  {
   "cell_type": "code",
   "execution_count": null,
   "id": "df237eb8",
   "metadata": {},
   "outputs": [],
   "source": [
    "import joblib\n",
    "\n",
    "# Save the model to a file\n",
    "joblib.dump(model, 'regression_model.pkl')\n",
    "\n",
    "# Load the model from the file\n",
    "loaded_model = joblib.load('regression_model.pkl')\n"
   ]
  },
  {
   "cell_type": "code",
   "execution_count": null,
   "id": "b37d831a",
   "metadata": {},
   "outputs": [],
   "source": [
    "# Import necessary libraries\n",
    "import pandas as pd\n",
    "from sklearn.model_selection import train_test_split\n",
    "from sklearn.tree import DecisionTreeClassifier\n",
    "from sklearn.metrics import accuracy_score, classification_report\n",
    "\n",
    "# Load the dataset\n",
    "file_path = \"VAM Dataset.csv\"\n",
    "df = pd.read_csv(file_path)\n",
    "\n",
    "\n",
    "# Display the head of the dataframe to understand its structure\n",
    "print(df.head())\n",
    "print()\n",
    "# Prepare the data for the decision tree model\n",
    "# Drop non-numeric columns and the target column 'Sales'\n",
    "X = df.drop(columns=['Unique_ID', 'Make', 'Model', 'Sales'])\n",
    "y = df['Sales']\n",
    "\n",
    "# Split the data into training and testing sets\n",
    "X_train, X_test, y_train, y_test = train_test_split(X, y, test_size=0.2, random_state=42)\n",
    "\n",
    "# Initialize the Decision Tree Classifier\n",
    "clf = DecisionTreeClassifier(random_state=42)\n",
    "\n",
    "# Train the model\n",
    "clf.fit(X_train, y_train)\n",
    "\n",
    "# Predict on the test set\n",
    "y_pred = clf.predict(X_test)\n",
    "\n",
    "# Evaluate the model\n",
    "accuracy = accuracy_score(y_test, y_pred)*100\n",
    "report = classification_report(y_test, y_pred)\n",
    "\n",
    "print('Accuracy:', accuracy)\n",
    "print('Classification Report:\\\n",
    "', report)"
   ]
  },
  {
   "cell_type": "code",
   "execution_count": null,
   "id": "5dc1dad3",
   "metadata": {},
   "outputs": [],
   "source": [
    "# Import necessary libraries\n",
    "import pandas as pd\n",
    "from sklearn.model_selection import train_test_split\n",
    "from sklearn.ensemble import RandomForestRegressor\n",
    "from sklearn.metrics import mean_squared_error\n",
    "\n",
    "# Load the dataset\n",
    "file_path = \"VAM Dataset.csv\"\n",
    "df = pd.read_csv(file_path)\n",
    "\n",
    "# Display the head of the dataframe to understand its structure\n",
    "print(df.head())\n",
    "# Prepare the data for training\n",
    "# Drop non-numeric columns and the target column 'Price'\n",
    "X = df.drop(columns=['Unique_ID', 'Make', 'Model', 'Price'])\n",
    "y = df['Sales']\n",
    "\n",
    "# Split the data into training and testing sets\n",
    "X_train, X_test, y_train, y_test = train_test_split(X, y, test_size=0.2, random_state=42)\n",
    "\n",
    "# Initialize the Random Forest Regressor\n",
    "rf = RandomForestRegressor(n_estimators=100, random_state=42)\n",
    "\n",
    "# Train the model\n",
    "rf.fit(X_train, y_train)\n",
    "\n",
    "# Predict on the test set\n",
    "y_pred = rf.predict(X_test)\n",
    "\n",
    "# Calculate the mean squared error\n",
    "mse = mean_squared_error(y_test, y_pred)\n",
    "\n",
    "print('Random Forest model trained successfully.')\n",
    "print('Mean Squared Error on test set:', mse)"
   ]
  },
  {
   "cell_type": "code",
   "execution_count": null,
   "id": "9a0ebd5d",
   "metadata": {},
   "outputs": [],
   "source": [
    "#Linear Regression\n",
    "# building model\n",
    "from sklearn.linear_model import LinearRegression\n",
    "regressor = LinearRegression()\n",
    "regressor \n",
    "regressor.fit(X_train,y_train)\n",
    "y_pred2 = regressor.predict(X_test)\n",
    "y_pred2\n",
    "# accuracy score\n",
    "from sklearn.metrics import r2_score\n",
    "score= r2_score(y_pred2,y_test) * 100\n",
    "print(score2)\n",
    "Line1 = dt1.predict([[2019,4.6,3.3,19,27,29403, 14]])\n",
    "Line2 = dt1.predict([[2018,4.8,3.3,19,24,32929, 20]])\n",
    "Line3 = dt1.predict([[2017,4.7,4.6,15,24,23173, 39]])\n",
    "print (Line1,Line2,Line3)"
   ]
  },
  {
   "cell_type": "code",
   "execution_count": null,
   "id": "01e8da9f",
   "metadata": {},
   "outputs": [],
   "source": [
    "from sklearn.ensemble import RandomForestRegressor\n",
    "dt1 = RandomForestRegressor()\n",
    "dt1\n",
    "dt1.fit(X_train,y_train)\n",
    "y_pred3=dt1.predict(X_test)\n",
    "y_pred3\n",
    "from sklearn.metrics import r2_score\n",
    "score2 = r2_score(y_pred3,y_test) * 100\n",
    "print(score)\n",
    "\n",
    "Ran1 = dt1.predict([[2019,4.6,3.3,19,27,29403, 14]])\n",
    "Ran2 = dt1.predict([[2018,4.8,3.3,19,24,32929, 20]])\n",
    "Ran3 = dt1.predict([[2017,4.7,4.6,15,24,23173, 39]])\n",
    "print (Ran1,Ran2,Ran3)"
   ]
  },
  {
   "cell_type": "code",
   "execution_count": null,
   "id": "1485e1e1",
   "metadata": {},
   "outputs": [],
   "source": [
    "from sklearn.tree import DecisionTreeRegressor\n",
    "from sklearn.metrics import r2_score\n",
    "dt1 = DecisionTreeRegressor()\n",
    "dt1.fit(X_train, y_train)\n",
    "y_pred3 = dt1.predict(X_test)\n",
    "score3 = r2_score(y_test, y_pred3) * 100\n",
    "print(score3)\n",
    "\n",
    "Dec1 = dt1.predict([[2019,4.6,3.3,19,27,29403, 14]])\n",
    "Dec2 = dt1.predict([[2018,4.8,3.3,19,24,32929, 20]])\n",
    "Dec3 = dt1.predict([[2017,4.7,4.6,15,24,23173, 39]])\n",
    "print (Dec1,Dec2,Dec3)"
   ]
  },
  {
   "cell_type": "code",
   "execution_count": null,
   "id": "e075a84c",
   "metadata": {},
   "outputs": [],
   "source": [
    "import pandas as pd\n",
    "\n",
    "# Creating the DataFrame with the given data\n",
    "comparison_df = pd.DataFrame({\n",
    "    \"Algorithm\": [\"Linear Regressor\", \"Decision_Tree\", \"Random-Forest\"],\n",
    "    \"Accuracy\": [score,score2,score3],\n",
    "    \"Prediction-1\": [Line1,Dec1,Ran1],\n",
    "    \"Prediction-2\": [Line2,Dec2,Ran2],\n",
    "    \"Prediction-3\": [Line3,Dec3,Ran3]})\n",
    "# Display the DataFrame\n",
    "comparison_df.head()  "
   ]
  }
 ],
 "metadata": {
  "language_info": {
   "name": "python"
  }
 },
 "nbformat": 4,
 "nbformat_minor": 5
}
