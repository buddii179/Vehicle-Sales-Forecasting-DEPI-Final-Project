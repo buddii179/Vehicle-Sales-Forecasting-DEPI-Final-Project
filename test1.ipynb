{
  "metadata": {
    "kernelspec": {
      "name": "python",
      "display_name": "Python (Pyodide)",
      "language": "python"
    },
    "language_info": {
      "codemirror_mode": {
        "name": "python",
        "version": 3
      },
      "file_extension": ".py",
      "mimetype": "text/x-python",
      "name": "python",
      "nbconvert_exporter": "python",
      "pygments_lexer": "ipython3",
      "version": "3.8"
    }
  },
  "nbformat_minor": 5,
  "nbformat": 4,
  "cells": [
    {
      "id": "151352c3-4437-4b09-bd83-6fa685717fa0",
      "cell_type": "code",
      "source": "import pandas as pd\nimport numpy as np",
      "metadata": {
        "trusted": true
      },
      "outputs": [],
      "execution_count": 1
    },
    {
      "id": "aefb355e-0668-4bea-89a2-22645381e14d",
      "cell_type": "code",
      "source": "df_main=pd.read_csv(\"car_prices.csv\")",
      "metadata": {
        "trusted": true
      },
      "outputs": [],
      "execution_count": 2
    },
    {
      "id": "2b8c7deb-2fc9-41ee-b51f-82fd825ee3e9",
      "cell_type": "code",
      "source": "df=df_main.copy()",
      "metadata": {
        "trusted": true
      },
      "outputs": [],
      "execution_count": 3
    },
    {
      "id": "aa40a22f-33ba-4642-bc32-11e134180614",
      "cell_type": "code",
      "source": "df.head()",
      "metadata": {
        "trusted": true
      },
      "outputs": [
        {
          "execution_count": 5,
          "output_type": "execute_result",
          "data": {
            "text/plain": "   year   make                model        trim   body transmission  \\\n0  2015    Kia              Sorento          LX    SUV    automatic   \n1  2015    Kia              Sorento          LX    SUV    automatic   \n2  2014    BMW             3 Series  328i SULEV  Sedan    automatic   \n3  2015  Volvo                  S60          T5  Sedan    automatic   \n4  2014    BMW  6 Series Gran Coupe        650i  Sedan    automatic   \n\n                 vin state  condition  odometer  color interior  \\\n0  5xyktca69fg566472    ca        5.0   16639.0  white    black   \n1  5xyktca69fg561319    ca        5.0    9393.0  white    beige   \n2  wba3c1c51ek116351    ca       45.0    1331.0   gray    black   \n3  yv1612tb4f1310987    ca       41.0   14282.0  white    black   \n4  wba6b2c57ed129731    ca       43.0    2641.0   gray    black   \n\n                                   seller      mmr  sellingprice  \\\n0                 kia motors america  inc  20500.0       21500.0   \n1                 kia motors america  inc  20800.0       21500.0   \n2  financial services remarketing (lease)  31900.0       30000.0   \n3                 volvo na rep/world omni  27500.0       27750.0   \n4  financial services remarketing (lease)  66000.0       67000.0   \n\n                                  saledate  \n0  Tue Dec 16 2014 12:30:00 GMT-0800 (PST)  \n1  Tue Dec 16 2014 12:30:00 GMT-0800 (PST)  \n2  Thu Jan 15 2015 04:30:00 GMT-0800 (PST)  \n3  Thu Jan 29 2015 04:30:00 GMT-0800 (PST)  \n4  Thu Dec 18 2014 12:30:00 GMT-0800 (PST)  ",
            "text/html": "<div>\n<style scoped>\n    .dataframe tbody tr th:only-of-type {\n        vertical-align: middle;\n    }\n\n    .dataframe tbody tr th {\n        vertical-align: top;\n    }\n\n    .dataframe thead th {\n        text-align: right;\n    }\n</style>\n<table border=\"1\" class=\"dataframe\">\n  <thead>\n    <tr style=\"text-align: right;\">\n      <th></th>\n      <th>year</th>\n      <th>make</th>\n      <th>model</th>\n      <th>trim</th>\n      <th>body</th>\n      <th>transmission</th>\n      <th>vin</th>\n      <th>state</th>\n      <th>condition</th>\n      <th>odometer</th>\n      <th>color</th>\n      <th>interior</th>\n      <th>seller</th>\n      <th>mmr</th>\n      <th>sellingprice</th>\n      <th>saledate</th>\n    </tr>\n  </thead>\n  <tbody>\n    <tr>\n      <th>0</th>\n      <td>2015</td>\n      <td>Kia</td>\n      <td>Sorento</td>\n      <td>LX</td>\n      <td>SUV</td>\n      <td>automatic</td>\n      <td>5xyktca69fg566472</td>\n      <td>ca</td>\n      <td>5.0</td>\n      <td>16639.0</td>\n      <td>white</td>\n      <td>black</td>\n      <td>kia motors america  inc</td>\n      <td>20500.0</td>\n      <td>21500.0</td>\n      <td>Tue Dec 16 2014 12:30:00 GMT-0800 (PST)</td>\n    </tr>\n    <tr>\n      <th>1</th>\n      <td>2015</td>\n      <td>Kia</td>\n      <td>Sorento</td>\n      <td>LX</td>\n      <td>SUV</td>\n      <td>automatic</td>\n      <td>5xyktca69fg561319</td>\n      <td>ca</td>\n      <td>5.0</td>\n      <td>9393.0</td>\n      <td>white</td>\n      <td>beige</td>\n      <td>kia motors america  inc</td>\n      <td>20800.0</td>\n      <td>21500.0</td>\n      <td>Tue Dec 16 2014 12:30:00 GMT-0800 (PST)</td>\n    </tr>\n    <tr>\n      <th>2</th>\n      <td>2014</td>\n      <td>BMW</td>\n      <td>3 Series</td>\n      <td>328i SULEV</td>\n      <td>Sedan</td>\n      <td>automatic</td>\n      <td>wba3c1c51ek116351</td>\n      <td>ca</td>\n      <td>45.0</td>\n      <td>1331.0</td>\n      <td>gray</td>\n      <td>black</td>\n      <td>financial services remarketing (lease)</td>\n      <td>31900.0</td>\n      <td>30000.0</td>\n      <td>Thu Jan 15 2015 04:30:00 GMT-0800 (PST)</td>\n    </tr>\n    <tr>\n      <th>3</th>\n      <td>2015</td>\n      <td>Volvo</td>\n      <td>S60</td>\n      <td>T5</td>\n      <td>Sedan</td>\n      <td>automatic</td>\n      <td>yv1612tb4f1310987</td>\n      <td>ca</td>\n      <td>41.0</td>\n      <td>14282.0</td>\n      <td>white</td>\n      <td>black</td>\n      <td>volvo na rep/world omni</td>\n      <td>27500.0</td>\n      <td>27750.0</td>\n      <td>Thu Jan 29 2015 04:30:00 GMT-0800 (PST)</td>\n    </tr>\n    <tr>\n      <th>4</th>\n      <td>2014</td>\n      <td>BMW</td>\n      <td>6 Series Gran Coupe</td>\n      <td>650i</td>\n      <td>Sedan</td>\n      <td>automatic</td>\n      <td>wba6b2c57ed129731</td>\n      <td>ca</td>\n      <td>43.0</td>\n      <td>2641.0</td>\n      <td>gray</td>\n      <td>black</td>\n      <td>financial services remarketing (lease)</td>\n      <td>66000.0</td>\n      <td>67000.0</td>\n      <td>Thu Dec 18 2014 12:30:00 GMT-0800 (PST)</td>\n    </tr>\n  </tbody>\n</table>\n</div>"
          },
          "metadata": {}
        }
      ],
      "execution_count": 5
    },
    {
      "id": "67b0fac9-0f27-456c-b9df-7e089b458b7f",
      "cell_type": "code",
      "source": "df.info()",
      "metadata": {
        "trusted": true
      },
      "outputs": [
        {
          "name": "stdout",
          "output_type": "stream",
          "text": "<class 'pandas.core.frame.DataFrame'>\nRangeIndex: 558837 entries, 0 to 558836\nData columns (total 16 columns):\n #   Column        Non-Null Count   Dtype  \n---  ------        --------------   -----  \n 0   year          558837 non-null  int64  \n 1   make          548536 non-null  object \n 2   model         548438 non-null  object \n 3   trim          548186 non-null  object \n 4   body          545642 non-null  object \n 5   transmission  493485 non-null  object \n 6   vin           558833 non-null  object \n 7   state         558837 non-null  object \n 8   condition     547017 non-null  float64\n 9   odometer      558743 non-null  float64\n 10  color         558088 non-null  object \n 11  interior      558088 non-null  object \n 12  seller        558837 non-null  object \n 13  mmr           558799 non-null  float64\n 14  sellingprice  558825 non-null  float64\n 15  saledate      558825 non-null  object \ndtypes: float64(4), int64(1), object(11)\nmemory usage: 44.8+ MB\n"
        }
      ],
      "execution_count": 6
    },
    {
      "id": "316d1dff-e7f7-4cf9-9c35-db1bcf845afa",
      "cell_type": "code",
      "source": "df.isnull().sum()",
      "metadata": {
        "trusted": true
      },
      "outputs": [
        {
          "execution_count": 8,
          "output_type": "execute_result",
          "data": {
            "text/plain": "year                0\nmake            10301\nmodel           10399\ntrim            10651\nbody            13195\ntransmission    65352\nvin                 4\nstate               0\ncondition       11820\nodometer           94\ncolor             749\ninterior          749\nseller              0\nmmr                38\nsellingprice       12\nsaledate           12\ndtype: int64"
          },
          "metadata": {}
        }
      ],
      "execution_count": 8
    },
    {
      "id": "87d8381a-0069-4db1-be71-ba5bd11c05f8",
      "cell_type": "code",
      "source": "",
      "metadata": {
        "trusted": true
      },
      "outputs": [],
      "execution_count": null
    }
  ]
}